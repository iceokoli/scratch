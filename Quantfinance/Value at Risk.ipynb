{
 "cells": [
  {
   "cell_type": "markdown",
   "metadata": {},
   "source": [
    "# Value at Risk\n",
    "\n",
    "Beta and standard deviation are ways to measure risk however neither of them consider the probability distribution.\n",
    "\n",
    "VAR measures the amount of potential loss that could happen in an investment over a given period in time."
   ]
  },
  {
   "cell_type": "markdown",
   "metadata": {},
   "source": [
    "## Variance Method\n",
    "\n",
    "Assumes return are normally distributed\n",
    "\n",
    "$$ VaR = position*(\\mu_{period} - z\\sigma_{period}) $$\n",
    "$$ \\mu_{period} = \\mu_{daily}n $$\n",
    "$$\\sigma_{period} = \\sigma_{daily} \\sqrt{n} $$"
   ]
  },
  {
   "cell_type": "code",
   "execution_count": 11,
   "metadata": {},
   "outputs": [],
   "source": [
    "import pandas as pd\n",
    "import numpy as np\n",
    "import requests\n",
    "from scipy.stats import norm"
   ]
  },
  {
   "cell_type": "code",
   "execution_count": 5,
   "metadata": {},
   "outputs": [],
   "source": [
    "def value_at_risk(S, c, mu, sigma, n):\n",
    "    z_stat = norm.ppf(1-c)\n",
    "    return S*(mu*n - z_stat*sigma*n**0.5)"
   ]
  },
  {
   "cell_type": "code",
   "execution_count": 6,
   "metadata": {},
   "outputs": [],
   "source": [
    "def get_data(stock, start, end):\n",
    "    \n",
    "    key = '*'\n",
    "    \n",
    "    url = f\"https://www.alphavantage.co/query?function=TIME_SERIES_DAILY_ADJUSTED&symbol={stock}&apikey={key}&outputsize=full\"\n",
    "    \n",
    "    r = requests.get(url)\n",
    "    r.raise_for_status()\n",
    "    \n",
    "    df = pd.DataFrame.from_dict(\n",
    "        r.json()['Time Series (Daily)'], orient='index'\n",
    "    )\n",
    "    \n",
    "    df.index = pd.to_datetime(df.index)\n",
    "    df.sort_index(inplace=True)\n",
    "    df['5. adjusted close'] = df['5. adjusted close'].astype('float')\n",
    "    \n",
    "    return df[start:end]['5. adjusted close']"
   ]
  },
  {
   "cell_type": "code",
   "execution_count": 7,
   "metadata": {},
   "outputs": [],
   "source": [
    "data = get_data('C', '2014-01-01', '2017-10-15')"
   ]
  },
  {
   "cell_type": "code",
   "execution_count": 12,
   "metadata": {},
   "outputs": [],
   "source": [
    "S = 1e6 #poistion\n",
    "c=0.99 #confidence interval\n",
    "mu = np.mean(data.pct_change())\n",
    "sigma = np.std(data.pct_change())"
   ]
  },
  {
   "cell_type": "markdown",
   "metadata": {},
   "source": [
    "if we have a million dollars in citi group shares then 99% of the time we should not lose more than \\\\$36,382 tommorow and \\\\$211,083 in 30 day time."
   ]
  },
  {
   "cell_type": "code",
   "execution_count": 13,
   "metadata": {},
   "outputs": [
    {
     "data": {
      "text/plain": [
       "36382.70696897758"
      ]
     },
     "execution_count": 13,
     "metadata": {},
     "output_type": "execute_result"
    }
   ],
   "source": [
    "value_at_risk(S,c,mu,sigma,1)"
   ]
  },
  {
   "cell_type": "code",
   "execution_count": 14,
   "metadata": {},
   "outputs": [
    {
     "data": {
      "text/plain": [
       "211083.75008959114"
      ]
     },
     "execution_count": 14,
     "metadata": {},
     "output_type": "execute_result"
    }
   ],
   "source": [
    "value_at_risk(S,c,mu,sigma,30)"
   ]
  },
  {
   "cell_type": "markdown",
   "metadata": {},
   "source": [
    "## Monte Carlo approach"
   ]
  },
  {
   "cell_type": "code",
   "execution_count": 15,
   "metadata": {},
   "outputs": [],
   "source": [
    "iterations = 1000000"
   ]
  },
  {
   "cell_type": "code",
   "execution_count": 21,
   "metadata": {},
   "outputs": [],
   "source": [
    "def value_at_risk_monte_carlo(S, c, mu, sigma, n, iterations):\n",
    "    \n",
    "    rand = np.random.normal(0,1,iterations)\n",
    "    \n",
    "    #simulate stock price using gbm\n",
    "    stock_price = S*np.exp(n*(mu - 0.5*sigma**2)+sigma*np.sqrt(n)*rand)\n",
    "    \n",
    "    stock_price = np.array(stock_price)\n",
    "    \n",
    "    return S - np.quantile(stock_price, 1-c)\n",
    "    "
   ]
  },
  {
   "cell_type": "code",
   "execution_count": 22,
   "metadata": {},
   "outputs": [
    {
     "data": {
      "text/plain": [
       "34948.21398076054"
      ]
     },
     "execution_count": 22,
     "metadata": {},
     "output_type": "execute_result"
    }
   ],
   "source": [
    "value_at_risk_monte_carlo(S, c, mu, sigma, 1, iterations)"
   ]
  },
  {
   "cell_type": "code",
   "execution_count": null,
   "metadata": {},
   "outputs": [],
   "source": []
  }
 ],
 "metadata": {
  "kernelspec": {
   "display_name": "Python 3",
   "language": "python",
   "name": "python3"
  },
  "language_info": {
   "codemirror_mode": {
    "name": "ipython",
    "version": 3
   },
   "file_extension": ".py",
   "mimetype": "text/x-python",
   "name": "python",
   "nbconvert_exporter": "python",
   "pygments_lexer": "ipython3",
   "version": "3.5.8"
  }
 },
 "nbformat": 4,
 "nbformat_minor": 4
}
