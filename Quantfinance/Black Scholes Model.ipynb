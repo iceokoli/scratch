{
 "cells": [
  {
   "cell_type": "markdown",
   "metadata": {},
   "source": [
    "# Black-Scholes Model\n",
    "\n",
    "## Introduction\n",
    "\n",
    "The Black Scholes model, also known as the Black-Scholes-Merton (BSM) model, is a mathematical model for pricing an options contract. \n",
    "\n",
    "The model assumes the price of heavily traded assets follows a geometric Brownian motion with constant drift and volatility.\n",
    "\n",
    "The Black-Scholes model makes certain assumptions:\n",
    "\n",
    "- The option is European and can only be exercised at expiration.\n",
    "- No dividends are paid out during the life of the option.\n",
    "- Markets are efficient (i.e., market movements cannot be predicted).\n",
    "- There are no transaction costs in buying the option.\n",
    "- The risk-free rate and volatility of the underlying are known and constant.\n",
    "- The returns on the underlying asset are normally distributed."
   ]
  },
  {
   "cell_type": "markdown",
   "metadata": {},
   "source": [
    " ## Formula\n",
    " \n",
    "__Call Option__:\n",
    "\n",
    "$S_tN(d_1) - K\\exp^{-rt}N(d_2)$\n",
    " \n",
    "__Put Option__:\n",
    "\n",
    "$ -S_t N(-d_1) + K\\exp^{-rt}N(-d_2) $\n",
    "\n",
    "where:\n",
    "\n",
    "$d_1 = \\frac{\\ln(S_t/K) + (r+0.5\\sigma_v^2)t}{\\sigma_s\\sqrt{t}}$  and  $d_2 = d_1 - \\sigma_s\\sqrt{t}$\n",
    "\n",
    "where:\n",
    "- $S_t$ is current stock price\n",
    "- K = strike price\n",
    "- r = risk free interest rate\n",
    "- t = time to maturity\n",
    "- N = normal distribution"
   ]
  },
  {
   "cell_type": "markdown",
   "metadata": {},
   "source": [
    "## Greeks\n",
    "\n",
    "1. __Delta__:Sensitity of the option to the underlying asset $\\frac{\\partial V}{\\partial S} $\n",
    "2. __Gamma__: Sensitivity of the delta to the options price $\\frac{\\partial^2 V}{\\partial S^2} $\n",
    "3.__Theta__: Rate of change of the option price with time $\\frac{\\partial^ V}{\\partial t} $\n",
    "4. __Vega__: Sensitivity of the option price to volatility\n",
    "$\\frac{\\partial V}{\\partial \\sigma} $"
   ]
  },
  {
   "cell_type": "markdown",
   "metadata": {},
   "source": [
    "## Implementation - Example"
   ]
  },
  {
   "cell_type": "code",
   "execution_count": 1,
   "metadata": {},
   "outputs": [],
   "source": [
    "import numpy as np\n",
    "import pandas as pd\n",
    "from scipy import stats"
   ]
  },
  {
   "cell_type": "code",
   "execution_count": 30,
   "metadata": {},
   "outputs": [],
   "source": [
    "def bs_call(S,K,t,r,sigma):\n",
    "    d1 = (np.log(S/K)+(r+0.5*sigma**2)*t)/ (sigma*t**0.5)\n",
    "    d2 = d1 - (sigma*t**0.5)\n",
    "    \n",
    "    return S*stats.norm.cdf(d1)-K*np.exp(-r*t)*stats.norm.cdf(d2)"
   ]
  },
  {
   "cell_type": "code",
   "execution_count": 31,
   "metadata": {},
   "outputs": [],
   "source": [
    "def bs_put(S,K,t,r,sigma):\n",
    "    d1 = (np.log(S/K)+(r+0.5*sigma**2)*t)/ (sigma*t**0.5)\n",
    "    d2 = d1 - (sigma*t**0.5)\n",
    "    \n",
    "    return -S*stats.norm.cdf(-d1)+K*np.exp(-r*t)*stats.norm.cdf(-d2)"
   ]
  },
  {
   "cell_type": "markdown",
   "metadata": {},
   "source": [
    "Inputs"
   ]
  },
  {
   "cell_type": "code",
   "execution_count": 32,
   "metadata": {},
   "outputs": [],
   "source": [
    "K = 100\n",
    "S = 100\n",
    "t = 1 #in years\n",
    "sigma = 0.2\n",
    "r = 0.05"
   ]
  },
  {
   "cell_type": "code",
   "execution_count": 33,
   "metadata": {},
   "outputs": [
    {
     "data": {
      "text/plain": [
       "10.450583572185565"
      ]
     },
     "execution_count": 33,
     "metadata": {},
     "output_type": "execute_result"
    }
   ],
   "source": [
    "bs_call(S,K,t,r,sigma)"
   ]
  },
  {
   "cell_type": "code",
   "execution_count": 34,
   "metadata": {},
   "outputs": [
    {
     "data": {
      "text/plain": [
       "5.573526022256971"
      ]
     },
     "execution_count": 34,
     "metadata": {},
     "output_type": "execute_result"
    }
   ],
   "source": [
    "bs_put(S,K,t,r,sigma)"
   ]
  },
  {
   "cell_type": "markdown",
   "metadata": {},
   "source": [
    "## Implementation - Monte Carlo"
   ]
  },
  {
   "cell_type": "code",
   "execution_count": 15,
   "metadata": {},
   "outputs": [],
   "source": [
    "def call_option_simulation(S,K,t,r,sigma, iterations):\n",
    "    \n",
    "    option_data = np.zeros([iterations,2])\n",
    "    \n",
    "    rand = np.random.normal(0,1,iterations)\n",
    "    \n",
    "    stock_price = S*np.exp(t*(r - 0.5*sigma**2)+sigma*np.sqrt(t)*rand)\n",
    "    \n",
    "    option_data[:,1] = stock_price - K   \n",
    "    \n",
    "    average = np.sum(np.amax(option_data, axis=1))/float(iterations)\n",
    "    \n",
    "    return np.exp(-1.0*r*t)*average"
   ]
  },
  {
   "cell_type": "code",
   "execution_count": 16,
   "metadata": {},
   "outputs": [],
   "source": [
    "def put_option_simulation(S,K,t,r,sigma, iterations):\n",
    "    \n",
    "    option_data = np.zeros([iterations,2])\n",
    "    \n",
    "    rand = np.random.normal(0,1,iterations)\n",
    "    \n",
    "    stock_price = S*np.exp(t*(r - 0.5*sigma**2)+sigma*np.sqrt(t)*rand)\n",
    "    \n",
    "    option_data[:,1] = K - stock_price\n",
    "    \n",
    "    average = np.sum(np.amax(option_data, axis=1))/float(iterations)\n",
    "    \n",
    "    return np.exp(-1.0*r*t)*average"
   ]
  },
  {
   "cell_type": "code",
   "execution_count": 27,
   "metadata": {},
   "outputs": [],
   "source": [
    "# Input\n",
    "S = 100\n",
    "K = 100\n",
    "T = 1\n",
    "r = 0.05\n",
    "sigma = 0.2\n",
    "iterations = 10000000"
   ]
  },
  {
   "cell_type": "code",
   "execution_count": 28,
   "metadata": {},
   "outputs": [
    {
     "data": {
      "text/plain": [
       "10.448505281709028"
      ]
     },
     "execution_count": 28,
     "metadata": {},
     "output_type": "execute_result"
    }
   ],
   "source": [
    "call_option_simulation(S,K,T,r,sigma,iterations)"
   ]
  },
  {
   "cell_type": "code",
   "execution_count": 29,
   "metadata": {},
   "outputs": [
    {
     "data": {
      "text/plain": [
       "5.578669090996386"
      ]
     },
     "execution_count": 29,
     "metadata": {},
     "output_type": "execute_result"
    }
   ],
   "source": [
    "put_option_simulation(S,K,T,r,sigma,iterations)"
   ]
  },
  {
   "cell_type": "code",
   "execution_count": null,
   "metadata": {},
   "outputs": [],
   "source": []
  }
 ],
 "metadata": {
  "kernelspec": {
   "display_name": "Python 3",
   "language": "python",
   "name": "python3"
  },
  "language_info": {
   "codemirror_mode": {
    "name": "ipython",
    "version": 3
   },
   "file_extension": ".py",
   "mimetype": "text/x-python",
   "name": "python",
   "nbconvert_exporter": "python",
   "pygments_lexer": "ipython3",
   "version": "3.6.8"
  }
 },
 "nbformat": 4,
 "nbformat_minor": 4
}
