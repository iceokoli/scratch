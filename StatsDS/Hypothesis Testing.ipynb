{
 "cells": [
  {
   "cell_type": "markdown",
   "metadata": {},
   "source": [
    "# Hypothesis Testing"
   ]
  },
  {
   "cell_type": "code",
   "execution_count": 56,
   "metadata": {},
   "outputs": [],
   "source": [
    "import numpy as np\n",
    "import pandas as pd\n",
    "from scipy.stats import ttest_1samp, ttest_ind, ttest_rel, sem, norm, ttest_ind_from_stats\n",
    "from statsmodels.stats import weightstats as stests"
   ]
  },
  {
   "cell_type": "markdown",
   "metadata": {},
   "source": [
    "## Test for mean, population vairance known - unlikely"
   ]
  },
  {
   "cell_type": "markdown",
   "metadata": {},
   "source": [
    "salary data"
   ]
  },
  {
   "cell_type": "code",
   "execution_count": 6,
   "metadata": {},
   "outputs": [
    {
     "data": {
      "text/plain": [
       "array([117313., 104002., 113038., 101936.,  84560., 113136.,  80740.,\n",
       "       100536., 105052.,  87201.,  91986.,  94868.,  90745., 102848.,\n",
       "        85927., 112276., 108637.,  96818.,  92307., 114564., 109714.,\n",
       "       108833., 115295.,  89279.,  81720.,  89344., 114426.,  90410.,\n",
       "        95118., 113382.])"
      ]
     },
     "execution_count": 6,
     "metadata": {},
     "output_type": "execute_result"
    }
   ],
   "source": [
    "data = np.genfromtxt('data/excercise37.csv')\n",
    "data"
   ]
  },
  {
   "cell_type": "markdown",
   "metadata": {},
   "source": [
    "null hypothesis: $H_0:\\mu=113,000$; alternative hypothesis  $H_1:\\mu \\neq 113,000$. This is a 2 sided test\n",
    "\n",
    "The formula:\n",
    "$Z=\\frac{x - \\mu_0}{\\frac{\\sigma}{\\sqrt{n}}}$"
   ]
  },
  {
   "cell_type": "code",
   "execution_count": 21,
   "metadata": {},
   "outputs": [],
   "source": [
    "mean = np.mean(data)\n",
    "pop_mean = 113000\n",
    "pop_std = 15000\n",
    "size = len(data)"
   ]
  },
  {
   "cell_type": "code",
   "execution_count": 22,
   "metadata": {},
   "outputs": [
    {
     "data": {
      "text/plain": [
       "-4.673765269641137"
      ]
     },
     "execution_count": 22,
     "metadata": {},
     "output_type": "execute_result"
    }
   ],
   "source": [
    "z_stat = (mean - pop_mean)/(pop_std/size**0.5)\n",
    "z_stat"
   ]
  },
  {
   "cell_type": "code",
   "execution_count": 26,
   "metadata": {},
   "outputs": [],
   "source": [
    "crit_val = norm.ppf(1 - 0.025) # 95% ci"
   ]
  },
  {
   "cell_type": "code",
   "execution_count": 27,
   "metadata": {},
   "outputs": [
    {
     "name": "stdout",
     "output_type": "stream",
     "text": [
      "reject null hypothesis\n"
     ]
    }
   ],
   "source": [
    "if abs(z_stat) > crit_val:\n",
    "    print('reject null hypothesis')\n",
    "else:\n",
    "    print('accept the null hypothesis')"
   ]
  },
  {
   "cell_type": "markdown",
   "metadata": {},
   "source": [
    "at a 5% significance, $\\alpha = 0.05$ we reject that the mean salary is 113,000"
   ]
  },
  {
   "cell_type": "markdown",
   "metadata": {},
   "source": [
    "## Test for mean, population vairance unknown"
   ]
  },
  {
   "cell_type": "markdown",
   "metadata": {},
   "source": [
    "null hypothesis: $H_0:\\mu<=40\\%$; alternative hypothesis  $H_1:\\mu>40\\%$ and $\\alpha = 0.05$ This is a one sided test"
   ]
  },
  {
   "cell_type": "code",
   "execution_count": 34,
   "metadata": {},
   "outputs": [],
   "source": [
    "data =  np.array([0.26, 0.23, 0.42, 0.49, 0.23, 0.59, 0.29, 0.29, 0.57, 0.40])"
   ]
  },
  {
   "cell_type": "code",
   "execution_count": 41,
   "metadata": {},
   "outputs": [
    {
     "data": {
      "text/plain": [
       "(-0.5295018231059438, 0.3046341429137719)"
      ]
     },
     "execution_count": 41,
     "metadata": {},
     "output_type": "execute_result"
    }
   ],
   "source": [
    "t_stat, p_val = ttest_1samp(data, 0.4)\n",
    "t_stat, p_val/2 #one sided"
   ]
  },
  {
   "cell_type": "code",
   "execution_count": 42,
   "metadata": {},
   "outputs": [
    {
     "name": "stdout",
     "output_type": "stream",
     "text": [
      "accept the null hypothesis\n"
     ]
    }
   ],
   "source": [
    "if p_val/2 < 0.05:\n",
    "    print('reject null hypothesis')\n",
    "else:\n",
    "    print('accept the null hypothesis')"
   ]
  },
  {
   "cell_type": "markdown",
   "metadata": {},
   "source": [
    "## Test for mean, Dependant Samples"
   ]
  },
  {
   "cell_type": "code",
   "execution_count": 48,
   "metadata": {},
   "outputs": [
    {
     "data": {
      "text/plain": [
       "array([[2. , 1.7],\n",
       "       [1.4, 1.7],\n",
       "       [1.3, 1.8],\n",
       "       [1.1, 1.3],\n",
       "       [1.8, 1.7],\n",
       "       [1.6, 1.5],\n",
       "       [1.5, 1.6],\n",
       "       [0.7, 1.7],\n",
       "       [0.9, 1.7],\n",
       "       [1.5, 2.4]])"
      ]
     },
     "execution_count": 48,
     "metadata": {},
     "output_type": "execute_result"
    }
   ],
   "source": [
    "data = np.genfromtxt('data/excercise44.csv', delimiter=',')\n",
    "data"
   ]
  },
  {
   "cell_type": "markdown",
   "metadata": {},
   "source": [
    "null hypothesis: $H_0:\\mu_b>=\\mu_a$; alternative hypothesis  $H_1:\\mu_b<\\mu_a$ and $\\alpha = 0.01$ This is a one sided test. \n",
    "\n",
    "null hypothesis is that there is mg level will the stay the same or decrease, alternative hypothesis is that it will increase"
   ]
  },
  {
   "cell_type": "code",
   "execution_count": 49,
   "metadata": {},
   "outputs": [],
   "source": [
    "data = np.column_stack((data, np.subtract(data[:,0], data[:,1]))) #calc before - after"
   ]
  },
  {
   "cell_type": "code",
   "execution_count": 53,
   "metadata": {},
   "outputs": [
    {
     "data": {
      "text/plain": [
       "(-2.294890710802983, 0.02369696819869895)"
      ]
     },
     "execution_count": 53,
     "metadata": {},
     "output_type": "execute_result"
    }
   ],
   "source": [
    "t_stat, p_val = ttest_rel(data[:,0], data[:,1])\n",
    "t_stat, p_val/2 #one sided"
   ]
  },
  {
   "cell_type": "code",
   "execution_count": 54,
   "metadata": {},
   "outputs": [
    {
     "name": "stdout",
     "output_type": "stream",
     "text": [
      "accept the null hypothesis\n"
     ]
    }
   ],
   "source": [
    "if p_val/2 < 0.01:\n",
    "    print('reject null hypothesis')\n",
    "else:\n",
    "    print('accept the null hypothesis')"
   ]
  },
  {
   "cell_type": "markdown",
   "metadata": {},
   "source": [
    "## Independant samples, known variance"
   ]
  },
  {
   "cell_type": "code",
   "execution_count": 62,
   "metadata": {},
   "outputs": [
    {
     "data": {
      "text/html": [
       "<div>\n",
       "<style scoped>\n",
       "    .dataframe tbody tr th:only-of-type {\n",
       "        vertical-align: middle;\n",
       "    }\n",
       "\n",
       "    .dataframe tbody tr th {\n",
       "        vertical-align: top;\n",
       "    }\n",
       "\n",
       "    .dataframe thead th {\n",
       "        text-align: right;\n",
       "    }\n",
       "</style>\n",
       "<table border=\"1\" class=\"dataframe\">\n",
       "  <thead>\n",
       "    <tr style=\"text-align: right;\">\n",
       "      <th></th>\n",
       "      <th>Engineering</th>\n",
       "      <th>Management</th>\n",
       "    </tr>\n",
       "  </thead>\n",
       "  <tbody>\n",
       "    <tr>\n",
       "      <th>Size</th>\n",
       "      <td>100</td>\n",
       "      <td>70</td>\n",
       "    </tr>\n",
       "    <tr>\n",
       "      <th>Sample mean</th>\n",
       "      <td>58</td>\n",
       "      <td>65</td>\n",
       "    </tr>\n",
       "    <tr>\n",
       "      <th>population std</th>\n",
       "      <td>10</td>\n",
       "      <td>6</td>\n",
       "    </tr>\n",
       "  </tbody>\n",
       "</table>\n",
       "</div>"
      ],
      "text/plain": [
       "                Engineering  Management\n",
       "Size                    100          70\n",
       "Sample mean              58          65\n",
       "population std           10           6"
      ]
     },
     "execution_count": 62,
     "metadata": {},
     "output_type": "execute_result"
    }
   ],
   "source": [
    "df = pd.DataFrame(\n",
    "    data = [\n",
    "        [100, 70],\n",
    "        [58, 65],\n",
    "        [10, 6]\n",
    "    ],\n",
    "    columns=['Engineering', 'Management'],\n",
    "    index=['Size', 'Sample mean', 'population std']\n",
    ")\n",
    "df"
   ]
  },
  {
   "cell_type": "markdown",
   "metadata": {},
   "source": [
    "null hypothesis: $H_0:\\mu_e - \\mu_m = -4\\% $; alternative hypothesis  $H_1:\\mu_e - \\mu_m \\neq -4\\% $ and $\\alpha = 0.05$ This is a two sided test. "
   ]
  },
  {
   "cell_type": "code",
   "execution_count": 63,
   "metadata": {},
   "outputs": [],
   "source": [
    "df['Difference'] = np.nan\n",
    "df.loc['Sample mean', 'Difference'] =  df.loc['Sample mean', 'Engineering'] -  df.loc['Sample mean','Management']\n",
    "df.loc['population std', 'Difference'] =  (df.loc['population std','Engineering']**2/df.loc['Size','Engineering'] +  df.loc['population std','Management']**2/df.loc['Size','Management'])**0.5"
   ]
  },
  {
   "cell_type": "code",
   "execution_count": 70,
   "metadata": {},
   "outputs": [
    {
     "data": {
      "text/plain": [
       "-2.4379081661160034"
      ]
     },
     "execution_count": 70,
     "metadata": {},
     "output_type": "execute_result"
    }
   ],
   "source": [
    "z_stat = (df.loc['Sample mean', 'Difference'] - -4)/df.loc['population std', 'Difference']\n",
    "z_stat #lower than -4"
   ]
  },
  {
   "cell_type": "code",
   "execution_count": 68,
   "metadata": {},
   "outputs": [],
   "source": [
    "p_stat = norm.sf(abs(z_stat))*2"
   ]
  },
  {
   "cell_type": "code",
   "execution_count": 69,
   "metadata": {},
   "outputs": [
    {
     "name": "stdout",
     "output_type": "stream",
     "text": [
      "reject null hypothesis\n"
     ]
    }
   ],
   "source": [
    "if p_stat < 0.05:\n",
    "    print('reject null hypothesis')\n",
    "else:\n",
    "    print('accept the null hypothesis')"
   ]
  },
  {
   "cell_type": "markdown",
   "metadata": {},
   "source": [
    "## Independant samples, unknown variance that are equal"
   ]
  },
  {
   "cell_type": "code",
   "execution_count": 71,
   "metadata": {},
   "outputs": [],
   "source": [
    "df = pd.DataFrame(\n",
    "    data = [\n",
    "        [10, 8],\n",
    "        [3.94, 3.25],\n",
    "        [0.18, 0.27]\n",
    "    ],\n",
    "    columns=['NY', 'LA'],\n",
    "    index=['Size', 'sample mean', 'sample std']\n",
    ")"
   ]
  },
  {
   "cell_type": "markdown",
   "metadata": {},
   "source": [
    "null hypothesis: $H_0:\\mu_{ny} - \\mu_{la} = 0 $; alternative hypothesis  $H_1:\\mu_{ny} - \\mu_{la} \\neq -0 $ and $\\alpha = 0.05$ This is a two sided test. "
   ]
  },
  {
   "cell_type": "code",
   "execution_count": 73,
   "metadata": {},
   "outputs": [],
   "source": [
    "t_stat, p_val = ttest_ind_from_stats(\n",
    "    df.loc['sample mean', 'NY'], df.loc['sample std', 'NY'], df.loc['Size', 'NY'], \n",
    "    df.loc['sample mean', 'LA'], df.loc['sample std', 'LA'], df.loc['Size', 'LA'],\n",
    "    equal_var=True\n",
    ")"
   ]
  },
  {
   "cell_type": "code",
   "execution_count": 75,
   "metadata": {},
   "outputs": [
    {
     "name": "stdout",
     "output_type": "stream",
     "text": [
      "reject null hypothesis\n"
     ]
    }
   ],
   "source": [
    "if p_val < 0.05:\n",
    "    print('reject null hypothesis')\n",
    "else:\n",
    "    print('accept the null hypothesis')"
   ]
  },
  {
   "cell_type": "code",
   "execution_count": 77,
   "metadata": {},
   "outputs": [
    {
     "name": "stdout",
     "output_type": "stream",
     "text": [
      "Extremely significant, potentially pointless test\n"
     ]
    }
   ],
   "source": [
    "if t_stat > 4:\n",
    "    print('Extremely significant, potentially pointless test')"
   ]
  },
  {
   "cell_type": "markdown",
   "metadata": {},
   "source": [
    "as the means are quite different and there is little sample std, it is clear that the prices in ny and la are different. hypothesis test not really needed"
   ]
  }
 ],
 "metadata": {
  "kernelspec": {
   "display_name": "Python 3",
   "language": "python",
   "name": "python3"
  },
  "language_info": {
   "codemirror_mode": {
    "name": "ipython",
    "version": 3
   },
   "file_extension": ".py",
   "mimetype": "text/x-python",
   "name": "python",
   "nbconvert_exporter": "python",
   "pygments_lexer": "ipython3",
   "version": "3.6.8"
  }
 },
 "nbformat": 4,
 "nbformat_minor": 4
}
