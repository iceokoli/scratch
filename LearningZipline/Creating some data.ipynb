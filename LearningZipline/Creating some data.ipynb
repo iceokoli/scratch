{
 "cells": [
  {
   "cell_type": "markdown",
   "metadata": {},
   "source": [
    "# Creating Some Data"
   ]
  },
  {
   "cell_type": "markdown",
   "metadata": {},
   "source": [
    "Looks like zipline accepts pandas panels "
   ]
  },
  {
   "cell_type": "code",
   "execution_count": 1,
   "metadata": {},
   "outputs": [],
   "source": [
    "import requests\n",
    "import pandas as pd\n",
    "from collections import OrderedDict\n",
    "import os"
   ]
  },
  {
   "cell_type": "code",
   "execution_count": 2,
   "metadata": {},
   "outputs": [],
   "source": [
    "api_key = os.getenv('AVKEY')"
   ]
  },
  {
   "cell_type": "code",
   "execution_count": 12,
   "metadata": {},
   "outputs": [],
   "source": [
    "stock = ['IPOB', 'NIO']"
   ]
  },
  {
   "cell_type": "code",
   "execution_count": 20,
   "metadata": {},
   "outputs": [],
   "source": [
    "data = OrderedDict()\n",
    "for i in stock:\n",
    "    url = (\n",
    "        \"https://www.alphavantage.co/query?function=TIME_SERIES_INTRADAY\"\n",
    "        \"&symbol={}&interval=60min&outputsize=compact&apikey={}\".format(i, api_key)\n",
    "    )\n",
    "    r = requests.get(url)\n",
    "    temp = pd.DataFrame.from_dict(r.json()['Time Series (60min)'],orient='index')\n",
    "    temp = temp.reindex(columns=sorted(temp.columns))\n",
    "    data[i] = temp"
   ]
  },
  {
   "cell_type": "code",
   "execution_count": 27,
   "metadata": {},
   "outputs": [],
   "source": [
    "panel = pd.Panel(data)\n",
    "panel.minor_axis = ['Open', 'High', 'Low', 'Close', 'Volume']\n",
    "panel.major_axis = pd.to_datetime(panel.major_axis).tz_localize(r.json()['Meta Data']['6. Time Zone'])"
   ]
  },
  {
   "cell_type": "code",
   "execution_count": 30,
   "metadata": {},
   "outputs": [
    {
     "data": {
      "text/plain": [
       "<class 'pandas.core.panel.Panel'>\n",
       "Dimensions: 2 (items) x 106 (major_axis) x 5 (minor_axis)\n",
       "Items axis: IPOB to NIO\n",
       "Major_axis axis: 2020-11-05 11:00:00-05:00 to 2020-11-13 20:00:00-05:00\n",
       "Minor_axis axis: Open to Volume"
      ]
     },
     "execution_count": 30,
     "metadata": {},
     "output_type": "execute_result"
    }
   ],
   "source": [
    "panel"
   ]
  }
 ],
 "metadata": {
  "kernelspec": {
   "display_name": "Python 3",
   "language": "python",
   "name": "python3"
  },
  "language_info": {
   "codemirror_mode": {
    "name": "ipython",
    "version": 3
   },
   "file_extension": ".py",
   "mimetype": "text/x-python",
   "name": "python",
   "nbconvert_exporter": "python",
   "pygments_lexer": "ipython3",
   "version": "3.5.8"
  }
 },
 "nbformat": 4,
 "nbformat_minor": 4
}
